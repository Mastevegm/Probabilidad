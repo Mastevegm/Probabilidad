{
 "cells": [
  {
   "cell_type": "code",
   "execution_count": 1,
   "id": "719ddfc0-3d80-4bd0-b924-df743e52c794",
   "metadata": {},
   "outputs": [],
   "source": [
    "###TareaEjercicios"
   ]
  },
  {
   "cell_type": "code",
   "execution_count": 1,
   "id": "6bc29b29-f6c6-43ff-a182-f05eef48301b",
   "metadata": {},
   "outputs": [],
   "source": [
    "#1.Alice tiene 2 hijos y uno de ellos es niña. ¿Cuál es la probabilidad dque el otro hijo también sea niña?"
   ]
  },
  {
   "cell_type": "code",
   "execution_count": 3,
   "id": "58365b8a-9202-4ac8-828f-2a55d39b09dd",
   "metadata": {},
   "outputs": [],
   "source": [
    "##Hay 4 combinaciones posibles: [Niño, Niño], [Niño, Niña], [Niña, Niño], [Niña, Niña]. Pero se descarta la de [Niño, Niño]"
   ]
  },
  {
   "cell_type": "code",
   "execution_count": 29,
   "id": "23fbfc3a-4418-410f-9a20-eaea85326386",
   "metadata": {},
   "outputs": [
    {
     "data": {
      "text/plain": [
       "0.3333333333333333"
      ]
     },
     "execution_count": 29,
     "metadata": {},
     "output_type": "execute_result"
    }
   ],
   "source": [
    "casos = 1\n",
    "total_casos = 3\n",
    "prob = casos / total_casos\n",
    "prob\n"
   ]
  },
  {
   "cell_type": "code",
   "execution_count": 6,
   "id": "303a0eed-e3c0-41bd-a989-ce855caa83cc",
   "metadata": {},
   "outputs": [],
   "source": [
    "####2.\n",
    "## Un dado justo se tira 2 veces. ¿Cuál es la probabilidad de obtener un 2 en la primera tirada y no tener un 4 en la segunda tirada?\n",
    "##dEBEMOS CONSIDERAR 3 CASOS\n",
    "   # La probabilidad de sacar un 2 en la primera tirada es 1661​.\n",
    "   # La probabilidad de no sacar un 4 en la segunda tirada es 5665​.\n",
    "   #La probabilidad conjunta será entonces 1/6 x 5/6 = 5/36\n",
    "\n"
   ]
  },
  {
   "cell_type": "code",
   "execution_count": 7,
   "id": "671c7660-8394-4bf2-adde-b9a97542c9be",
   "metadata": {},
   "outputs": [
    {
     "data": {
      "text/plain": [
       "0.1388888888888889"
      ]
     },
     "execution_count": 7,
     "metadata": {},
     "output_type": "execute_result"
    }
   ],
   "source": [
    "prob_prim = 1 / 6\n",
    "prob_nosac = 5 / 6\n",
    "total_prob = prob_prim * prob_nosac\n",
    "total_prob"
   ]
  },
  {
   "cell_type": "code",
   "execution_count": 3,
   "id": "a63bf54b-43e0-4a3e-8b34-66a9562a99f6",
   "metadata": {},
   "outputs": [],
   "source": [
    "####3. \n",
    "###Dado de 4 lados tirado 2 veces, ¿cuál es la probabilidad de que el número en la primera tirada sea mayor que el de la segunda?\n",
    "    ##Hay 16 combinaciones posibles, 4 en la primera tirada y 4 en la segunda.\n",
    "    ##Las combinaciones favorables son 6, cuando el primer número es mayor que el segundo.\n",
    "    ###Probabilidad = 6/16."
   ]
  },
  {
   "cell_type": "code",
   "execution_count": 30,
   "id": "97f237e3-5c0b-4fa6-a86d-d948fb35b61e",
   "metadata": {},
   "outputs": [
    {
     "data": {
      "text/plain": [
       "0.375"
      ]
     },
     "execution_count": 30,
     "metadata": {},
     "output_type": "execute_result"
    }
   ],
   "source": [
    "comb_buenas = 6  # Combinaciones favorables\n",
    "total_comb = 16\n",
    "probabilidad = comb_buenas / total_comb\n",
    "probabilidad\n"
   ]
  },
  {
   "cell_type": "code",
   "execution_count": 6,
   "id": "b761a926-96db-44f1-b93a-ae0d5202d7a0",
   "metadata": {},
   "outputs": [],
   "source": [
    "##4\n",
    "##Probabilidad de que las 4 cartas de Anita estén en las 8 cartas de Babita.\n",
    "#Para sacar la probabilidad de que las 4 cartas de Anita estén en las 8 de Babita es el número \n",
    "##de formas de elegir 4 cartas de 8 dividido por el número total de formas de elegir 4 cartas de 52."
   ]
  },
  {
   "cell_type": "code",
   "execution_count": 5,
   "id": "884dcb2a-5fdd-475e-9e52-805fa66ba75b",
   "metadata": {},
   "outputs": [
    {
     "data": {
      "text/plain": [
       "0.0002585649644473174"
      ]
     },
     "execution_count": 5,
     "metadata": {},
     "output_type": "execute_result"
    }
   ],
   "source": [
    "from math import comb\n",
    "prob_anita_babita = comb(8, 4) / comb(52, 4)\n",
    "prob_anita_babita\n"
   ]
  },
  {
   "cell_type": "code",
   "execution_count": null,
   "id": "a9f4d737-fe9a-4aa1-9263-090a2a1e4e40",
   "metadata": {},
   "outputs": [],
   "source": [
    "##5\n",
    "###Probabilidad de que la 13ª carta repartida sea un rey si no salió rey en las primeras 12 cartas.\n",
    "\n",
    "###   Si no salió rey en las primeras 12 cartas, quedan 4 reyes en las 40 cartas restantes.Y en total hay 52 cartas\n",
    "#Probabilidad = 4/40."
   ]
  },
  {
   "cell_type": "code",
   "execution_count": 31,
   "id": "282e35f2-3894-4082-b630-afa34348ee32",
   "metadata": {},
   "outputs": [
    {
     "data": {
      "text/plain": [
       "0.1"
      ]
     },
     "execution_count": 31,
     "metadata": {},
     "output_type": "execute_result"
    }
   ],
   "source": [
    "prob_rey = 4 / 40\n",
    "prob_rey\n"
   ]
  },
  {
   "cell_type": "code",
   "execution_count": 7,
   "id": "fa9f1947-c2c3-426b-b9c3-2f7b0941bf77",
   "metadata": {},
   "outputs": [],
   "source": [
    "##6\n",
    "###Probabilidad de que en 6 tiradas de un dado de 6 caras, todos los resultados sean únicos.\n",
    "##  En la primera tirada hay 6 posibles resultados, en la segunda 5, luego 4, etc.\n",
    "  ##  Probabilidad = 6/6*  5/6 * 4/6 * 3/6*  2/6 ×1/6"
   ]
  },
  {
   "cell_type": "code",
   "execution_count": 34,
   "id": "e11db77f-2e2a-453c-b0bc-39c9e61dd0c6",
   "metadata": {},
   "outputs": [
    {
     "data": {
      "text/plain": [
       "0.015432098765432098"
      ]
     },
     "execution_count": 34,
     "metadata": {},
     "output_type": "execute_result"
    }
   ],
   "source": [
    "prob_unic = (6/6) * (5/6) * (4/6) * (3/6) * (2/6) * (1/6)\n",
    "prob_unic\n"
   ]
  },
  {
   "cell_type": "code",
   "execution_count": null,
   "id": "84e4f474-83bb-4a78-943f-d6e715d13c2b",
   "metadata": {},
   "outputs": [],
   "source": [
    "###7\n",
    "##Probabilidad de que Jack y Jill estén en la misma clase (3 clases de 20 estudiantes).\n",
    "\n",
    "   ###La probabilidad de que Jack y Jill estén en la misma clase es 19/59, ya que si Jack está en una clase, Jill tiene 19 lugares entre los 59 restantes para estar con él."
   ]
  },
  {
   "cell_type": "code",
   "execution_count": 8,
   "id": "ac00eaf1-ccd5-4aa1-b700-0313c7c6bbce",
   "metadata": {},
   "outputs": [
    {
     "data": {
      "text/plain": [
       "0.3220338983050847"
      ]
     },
     "execution_count": 8,
     "metadata": {},
     "output_type": "execute_result"
    }
   ],
   "source": [
    "prob_clse = 19 / 59\n",
    "prob_clse"
   ]
  },
  {
   "cell_type": "code",
   "execution_count": null,
   "id": "ac6445bf-a71a-4b86-a4f0-9917078a2ca0",
   "metadata": {},
   "outputs": [],
   "source": [
    "###8\n",
    "##Número esperado de veces que se tirará una moneda hasta obtener sol (Moneda A: 1/2, Moneda B: 1/3\n",
    "\n",
    "#Probabilidad de seleccionar la moneda A = 1/4, y la moneda B = 3/4.\n",
    " #  El número esperado de tiradas para obtener sol en la moneda A es 2, y para la moneda B es 3.\n",
    "##    Número esperado total = 1/4×2+3/4×3\n"
   ]
  },
  {
   "cell_type": "code",
   "execution_count": 8,
   "id": "1c81d767-57ed-4ffd-855b-847b28b3279a",
   "metadata": {},
   "outputs": [
    {
     "data": {
      "text/plain": [
       "2.75"
      ]
     },
     "execution_count": 8,
     "metadata": {},
     "output_type": "execute_result"
    }
   ],
   "source": [
    "monA = 2  #\n",
    "mon_B = 3  \n",
    "prob_A = 1 / 4\n",
    "prob_B = 3 / 4\n",
    "\n",
    "esptotal = (prob_A * mon_A) + (prob_B * mon_B)\n",
    "esptotal\n"
   ]
  },
  {
   "cell_type": "code",
   "execution_count": 11,
   "id": "029e9258-c56b-44f9-a094-49f40b064df1",
   "metadata": {},
   "outputs": [],
   "source": [
    "###9\n",
    "###Valor esperado de una póliza de seguros que paga 240,000 pesos y cuesta 210 pesos (probabilidad de sobrevivir: 0.999592).\n",
    "##  El valor esperado de la póliza para la compañía es 210−240,000×(1−0.999592) L "
   ]
  },
  {
   "cell_type": "code",
   "execution_count": 9,
   "id": "8ba1c700-37f4-4c9b-ade4-6c26ed19c987",
   "metadata": {},
   "outputs": [
    {
     "data": {
      "text/plain": [
       "112.08000000000865"
      ]
     },
     "execution_count": 9,
     "metadata": {},
     "output_type": "execute_result"
    }
   ],
   "source": [
    "seguro = 240000\n",
    "pago = 210\n",
    "prob_sobvivir = 0.999592\n",
    "\n",
    "val_esperado = pago - seguro * (1 - prob_sobvivir)\n",
    "val_esperado\n"
   ]
  },
  {
   "cell_type": "code",
   "execution_count": null,
   "id": "097d63fe-9421-4800-a801-acd9bdec59eb",
   "metadata": {},
   "outputs": [],
   "source": [
    "##10\n",
    "##Número esperado de juegos ganados si se apuesta al rojo en 5 tiradas de una ruleta (18 rojos, 18 negros, 2 verdes).\n",
    "##   La probabilidad de ganar un solo juego es 18/38\n",
    " ###número esperado de juegos ganados es 5×18/38"
   ]
  },
  {
   "cell_type": "code",
   "execution_count": 37,
   "id": "e08ac195-ca0d-4196-bd7c-3d44b7b8825c",
   "metadata": {},
   "outputs": [
    {
     "data": {
      "text/plain": [
       "2.3684210526315788"
      ]
     },
     "execution_count": 37,
     "metadata": {},
     "output_type": "execute_result"
    }
   ],
   "source": [
    "rojo = 18 / 38\n",
    "ganar = 5 * rojo\n",
    "ganar\n"
   ]
  },
  {
   "cell_type": "code",
   "execution_count": null,
   "id": "5595f1f6-fcca-4c27-aa45-91256d1ba79c",
   "metadata": {},
   "outputs": [],
   "source": [
    "##11\n",
    "##Probabilidad de ganar los 5 juegos si se apuesta al rojo en 5 tiradas de una ruleta.\n",
    "##La probabilidad de ganar los 5 juegos es (18/38)⁵"
   ]
  },
  {
   "cell_type": "code",
   "execution_count": 38,
   "id": "70600273-ffa8-4a43-a61b-6e751eb1e2bf",
   "metadata": {},
   "outputs": [
    {
     "data": {
      "text/plain": [
       "0.023847592523562257"
      ]
     },
     "execution_count": 38,
     "metadata": {},
     "output_type": "execute_result"
    }
   ],
   "source": [
    "cincojuegos = (18 / 38) ** 5\n",
    "cincojuegos\n"
   ]
  },
  {
   "cell_type": "code",
   "execution_count": null,
   "id": "ed854974-7ac0-48f3-acaf-3d6e5aeec5eb",
   "metadata": {},
   "outputs": [],
   "source": [
    "####12.\n",
    "#Probabilidad de que X≤6X≤6 para una densidad de probabilidad continua (dada).\n",
    "###  Se debe integrar la densidad de probabilidad desde 0 hasta 6 para encontrar la probabilidad.\n",
    "\n"
   ]
  },
  {
   "cell_type": "code",
   "execution_count": 13,
   "id": "fd5c42a4-c51f-424a-9a5b-c706805f5ed2",
   "metadata": {},
   "outputs": [
    {
     "data": {
      "text/plain": [
       "1.7999999999999998"
      ]
     },
     "execution_count": 13,
     "metadata": {},
     "output_type": "execute_result"
    }
   ],
   "source": [
    "from scipy.integrate import quad\n",
    "def pdf(x):\n",
    "    return 0.1 * x \n",
    "\n",
    "prob_X_leq_6, _ = quad(pdf, 0, 6)\n",
    "prob_X_leq_6\n"
   ]
  },
  {
   "cell_type": "code",
   "execution_count": null,
   "id": "27794ba0-0a3f-427e-a714-b9fee154dcac",
   "metadata": {},
   "outputs": [],
   "source": [
    "##13\n",
    "#Probabilidad de que dos estudiantes tengan el mismo cumpleaños en una clase de 30 estudiantes.\n",
    "\n",
    "#    Usar la aproximación del problema del cumpleaños.\n",
    " ##   Probabilidad de que al menos dos estudiantes compartan cumpleaños = 1−P(ninguno comparte)1−P(ninguno comparte)."
   ]
  },
  {
   "cell_type": "code",
   "execution_count": 39,
   "id": "47a15410-67d6-4773-a144-d44ab3e0788e",
   "metadata": {},
   "outputs": [
    {
     "data": {
      "text/plain": [
       "0.7063162427192688"
      ]
     },
     "execution_count": 39,
     "metadata": {},
     "output_type": "execute_result"
    }
   ],
   "source": [
    "from math import factorial\n",
    "\n",
    "def cumple(n, dias_año=365):\n",
    "    nosea = 1.0\n",
    "    for i in range(n):\n",
    "        nosea *= (dias_año - i) / dias_año\n",
    "    return 1 - nosea\n",
    "\n",
    "mismodia = cumple(30)\n",
    "mismodia"
   ]
  },
  {
   "cell_type": "code",
   "execution_count": 13,
   "id": "8f86d456-3910-4951-9d49-45a8b43b9624",
   "metadata": {},
   "outputs": [],
   "source": [
    "###14\n",
    "##Probabilidad de vender 2 sándwiches de huevo entre los próximos 3 clientes (70% elige huevo)\n",
    "#3   Seguir una distribución binomial con n=3n=3, p=0.7p=0.7, y calcular la probabilidad de k=2k=2 éxitos."
   ]
  },
  {
   "cell_type": "code",
   "execution_count": 41,
   "id": "49115d7a-32d2-42ad-866c-e0209c3f6679",
   "metadata": {},
   "outputs": [
    {
     "data": {
      "text/plain": [
       "np.float64(0.4409999999999998)"
      ]
     },
     "execution_count": 41,
     "metadata": {},
     "output_type": "execute_result"
    }
   ],
   "source": [
    "from scipy.stats import binom\n",
    "\n",
    "huevo = 0.7\n",
    "dos_huevos = binom.pmf(2, 3, huevo)\n",
    "dos_huevos\n"
   ]
  },
  {
   "cell_type": "code",
   "execution_count": null,
   "id": "42727a08-8c0b-4202-ae02-ffaec7850d84",
   "metadata": {},
   "outputs": [],
   "source": [
    "##15 Probabilidad de que 4 de 6 pacientes seleccionados se recuperen si la tasa de mortalidad es del 75%\n",
    "#Con la distribución binomial con n=6, p=0.25, y calcular la probabilidad de k=4éxitos.\n",
    "\n"
   ]
  },
  {
   "cell_type": "code",
   "execution_count": 42,
   "id": "387d4dca-34b8-418b-820f-e2ff012a69f1",
   "metadata": {},
   "outputs": [
    {
     "data": {
      "text/plain": [
       "np.float64(0.03295898437499997)"
      ]
     },
     "execution_count": 42,
     "metadata": {},
     "output_type": "execute_result"
    }
   ],
   "source": [
    "from scipy.stats import binom\n",
    "n = 6 \n",
    "p = 0.25  # mortalidad\n",
    "\n",
    "prob_4 = binom.pmf(4, n, p)\n",
    "prob_4"
   ]
  },
  {
   "cell_type": "code",
   "execution_count": 20,
   "id": "b5b98f5e-c399-4a47-9d30-a3e359e80191",
   "metadata": {},
   "outputs": [],
   "source": [
    "\n",
    "##16.- Probabilidad de que un estudiante apruebe el segundo examen dado que aprobó el primero.\n",
    "## Sabemos que el 25% aprobó ambos exámenes y el 45% aprobó el primero.\n",
    "  ##  Usamos la fórmula de probabilidad condicional: P(A2∣A1)=P(A1∩A2)P(A1)=0.25/0.45"
   ]
  },
  {
   "cell_type": "code",
   "execution_count": null,
   "id": "167f44a3-1eda-429d-bcd2-bd362d3ee05e",
   "metadata": {},
   "outputs": [],
   "source": []
  },
  {
   "cell_type": "code",
   "execution_count": null,
   "id": "70dad9d6-3e8e-463c-9d92-b6d4324987ca",
   "metadata": {},
   "outputs": [],
   "source": []
  },
  {
   "cell_type": "code",
   "execution_count": 43,
   "id": "2de9ff5a-2cae-4ddd-800d-b3bce90f20da",
   "metadata": {},
   "outputs": [
    {
     "data": {
      "text/plain": [
       "0.5555555555555556"
      ]
     },
     "execution_count": 43,
     "metadata": {},
     "output_type": "execute_result"
    }
   ],
   "source": [
    "ambos_ex = 0.25\n",
    "primero = 0.45\n",
    "\n",
    "segundoe = ambos_ex / primero\n",
    "segundoe\n"
   ]
  },
  {
   "cell_type": "code",
   "execution_count": 22,
   "id": "e8437d3b-ab81-486c-a629-dbc8aaf3c2d5",
   "metadata": {},
   "outputs": [],
   "source": [
    "###17.-- Probabilidad de que una moneda con sol en ambos lados sea la que cayó sol.\n",
    " ##Usar el teorema de Bayes: P(A∣B)=P(B∣A)P(A)/P(B) donde A es la moneda de doble sol y B es que cayó sol."
   ]
  },
  {
   "cell_type": "code",
   "execution_count": 44,
   "id": "c742eacf-87a5-4562-894e-d46b31b1b95c",
   "metadata": {},
   "outputs": [
    {
     "data": {
      "text/plain": [
       "0.5"
      ]
     },
     "execution_count": 44,
     "metadata": {},
     "output_type": "execute_result"
    }
   ],
   "source": [
    "dossol = 0.5  # P(sol | doble sol)\n",
    "solnormal = 0.5  # P(sol | moneda normal)\n",
    "prob_doble = 0.5      # P(doble sol)\n",
    "prob_normal = 0.5      # P(normal)\n",
    "\n",
    "prob_sol = (dossol * prob_doble) + (solnormal * prob_normal)\n",
    "\n",
    "nuevaprobdossol = (dossol * prob_doble) / prob_sol\n",
    "nuevaprobdossol\n"
   ]
  },
  {
   "cell_type": "code",
   "execution_count": 23,
   "id": "e681d032-3f92-4043-97d7-5909352ba4de",
   "metadata": {},
   "outputs": [],
   "source": [
    "###18 Probabilidad de tener una enfermedad dado que la prueba salió positiva (Teorema de Bayes).\n",
    "##  Usar el teorema de Bayes: P(enfermedad∣positivo)=P(positivo∣enfermedad)P(enfermedad)/P(positivo)"
   ]
  },
  {
   "cell_type": "code",
   "execution_count": 48,
   "id": "28561fda-6a6a-4fe7-9c53-94509be120ae",
   "metadata": {},
   "outputs": [
    {
     "data": {
      "text/plain": [
       "0.12114490916772287"
      ]
     },
     "execution_count": 48,
     "metadata": {},
     "output_type": "execute_result"
    }
   ],
   "source": [
    "prob_enf = 0.00148  # P(Enfermedad)\n",
    "prob_pos_enf = 0.93  # P(Positivo | Enfermedad)\n",
    "prob_posis_noen = 0.01  # P(Positivo | No enfermedad)\n",
    "\n",
    "# calculo P(No enfermedad)\n",
    "prob_no_en = 1 - prob_enf\n",
    "\n",
    "# Calculo P(Positivo)\n",
    "prob_positivo = (prob_pos_enf * prob_enf) + (prob_posis_noen * prob_no_en)\n",
    "\n",
    "# Calcula P(Enfermedad | Positivo) usando el teorema de Bayes\n",
    "prob_enf_pos = (prob_pos_enf * prob_enf) / prob_positivo\n",
    "\n",
    "prob_enf_pos"
   ]
  },
  {
   "cell_type": "code",
   "execution_count": 47,
   "id": "424c6299-7ca8-428f-83e0-a816c6fe1e7f",
   "metadata": {},
   "outputs": [
    {
     "data": {
      "text/plain": [
       "0.12114490916772287"
      ]
     },
     "execution_count": 47,
     "metadata": {},
     "output_type": "execute_result"
    }
   ],
   "source": []
  },
  {
   "cell_type": "code",
   "execution_count": 28,
   "id": "86483199-2cb5-42d7-93a0-a08841d1362c",
   "metadata": {},
   "outputs": [],
   "source": [
    "#19\n",
    "##Haz un código que escriba letras y el espacio con la misma \n",
    "##frecuencia con que aparecen en el cuento de Alicia en el País de las Maravillas : https://github.com/andergd/separadorSilabas/blob/master/Carroll%2C%20Lewis%20-%20Alicia%20En%20El%20Pa%C3%ADs%20De%20Las%20Maravillas.txt\n"
   ]
  },
  {
   "cell_type": "code",
   "execution_count": 49,
   "id": "22f25386-e0b6-4139-beab-d6586db5d04e",
   "metadata": {},
   "outputs": [
    {
     "name": "stdout",
     "output_type": "stream",
     "text": [
      "an    a  dr elrr  no o siacsddcspor vrnuoopneiunqt  ause se oroieéen   oaoaqn mynhresrsaéueletoócs  bnel eiaaedguot  loppmuullse n udpdeu uii ó odeiáee eis  grdssnasamei iohht matnr ydssnorm euamolqsepbs e u i egeas y eletpso cdeoa da  qnenaeúóloóslp m v l  eqmea  oannrp arayrpzaaeyia  oecleírup axeapi s  t oíectdgpdoraenapaaae ehjrel  asiic nari  uravrgeldrstíiluti ldaeéroqhr  ost noeauae ní i  h aaier n iebóaiano onúcrde  cpetanrq i rdsalu u ucoq  igsieuoayt mre  ecar oo earn r s maid vnecel eydcpsfaaelninldumoace onhyuula eqye ylym bi tnoqqpat  dc   qodii  asaa l  baaaé yeaqap da ro s   obruf r lltaer trásodoeri otroom aoósgnuu poeyi j  rv ath raoicenuzr onane t mpla sgmaeaau et xap  o ls oan u rataetidíeé a siáta s aohaoeuo n v lcbigap  nr s sc aoísoc s cenruus oou eagjar eansntn oetgi oteeo de mmroamuiuzosijloíapcp l erodl co isbitsadeoar sn uuhacóideusrl lqi  lenoaoturo qg le p iare   dlcódmmncntis rcunluaoeea  dtaioilopna yvruurn eaeqe pn edg elitinuz  l mpstarlbiogploa ae  i   \n"
     ]
    }
   ],
   "source": [
    "import requests\n",
    "from collections import Counter\n",
    "import random\n",
    "url = \"https://raw.githubusercontent.com/andergd/separadorSilabas/master/Carroll%2C%20Lewis%20-%20Alicia%20En%20El%20Pa%C3%ADs%20De%20Las%20Maravillas.txt\"\n",
    "\n",
    "response = requests.get(url)\n",
    "texto = response.text.lower()  #\n",
    "\n",
    "# Filtrar solo letras y espacios\n",
    "texto_filtrado = ''.join(c for c in texto if c.isalpha() or c == ' ')\n",
    "\n",
    "contador = Counter(texto_filtrado)\n",
    "\n",
    "total_caracteres = sum(contador.values())\n",
    "\n",
    "frecuencia = []\n",
    "for char, count in contador.items():\n",
    "    frecuencia.extend([char] * count)\n",
    "\n",
    "longitud_texto_generado = 1000  # Definir la longitud del texto generado\n",
    "texto_generado = ''.join(random.choices(frecuencia, k=longitud_texto_generado))\n",
    "\n",
    "print(texto_generado)\n"
   ]
  },
  {
   "cell_type": "code",
   "execution_count": null,
   "id": "e2e2cebb-3f84-4ae2-85d7-323585609488",
   "metadata": {},
   "outputs": [],
   "source": []
  }
 ],
 "metadata": {
  "kernelspec": {
   "display_name": "Python 3 (ipykernel)",
   "language": "python",
   "name": "python3"
  },
  "language_info": {
   "codemirror_mode": {
    "name": "ipython",
    "version": 3
   },
   "file_extension": ".py",
   "mimetype": "text/x-python",
   "name": "python",
   "nbconvert_exporter": "python",
   "pygments_lexer": "ipython3",
   "version": "3.12.2"
  }
 },
 "nbformat": 4,
 "nbformat_minor": 5
}
